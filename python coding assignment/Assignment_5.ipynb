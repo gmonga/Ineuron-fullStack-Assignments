{
 "cells": [
  {
   "cell_type": "code",
   "execution_count": 44,
   "metadata": {},
   "outputs": [
    {
     "name": "stdout",
     "output_type": "stream",
     "text": [
      "please enter a number1:2\n",
      "please enter a number2:3\n",
      "Lcm of 2 and 3 is:6\n"
     ]
    }
   ],
   "source": [
    "#1. Write a Python Program to Find LCM?\n",
    "\n",
    "def getLcm(a,b):\n",
    "    lcm=1\n",
    "    largest=0\n",
    "    if(a>b):\n",
    "        largest=a\n",
    "    if(b>a):\n",
    "        largest=b\n",
    "        \n",
    "    while True:\n",
    "        if((largest%a==0) and (largest%b==0)):\n",
    "            lcm=largest\n",
    "            break\n",
    "        else:\n",
    "            largest+=1\n",
    "    return lcm\n",
    "           \n",
    "        \n",
    "try:    \n",
    "    num= int(input(\"please enter a number1:\"))\n",
    "    num1= int(input(\"please enter a number2:\"))\n",
    "    print(\"Lcm of {0} and {1} is:{2}\".format(num,num1,getLcm(num,num1)))\n",
    "     \n",
    "except:\n",
    "    \n",
    "    print(\"please enter a valid number\")"
   ]
  },
  {
   "cell_type": "code",
   "execution_count": 47,
   "metadata": {},
   "outputs": [
    {
     "name": "stdout",
     "output_type": "stream",
     "text": [
      "please enter a number1:24\n",
      "please enter a number2:10\n",
      "hcf of 24 and 10 is:120\n"
     ]
    }
   ],
   "source": [
    "#2. Write a Python Program to Find HCF?\n",
    "def getHcf(a,b):\n",
    "    hcf=1\n",
    "    largest=0\n",
    "    if(a>b):\n",
    "        largest=a\n",
    "    if(b>a):\n",
    "        largest=b\n",
    "        \n",
    "    for i in range(2,largest+1):\n",
    "        if((a%i==0) and (b%i==0)):\n",
    "            hcf=i\n",
    "            \n",
    "    return hcf\n",
    "           \n",
    "        \n",
    "try:    \n",
    "    num= int(input(\"please enter a number1:\"))\n",
    "    num1= int(input(\"please enter a number2:\"))\n",
    "    print(\"hcf of {0} and {1} is:{2}\".format(num,num1,getLcm(num,num1)))\n",
    "     \n",
    "except:\n",
    "    \n",
    "    print(\"please enter the valid number\")"
   ]
  },
  {
   "cell_type": "code",
   "execution_count": 56,
   "metadata": {},
   "outputs": [
    {
     "name": "stdout",
     "output_type": "stream",
     "text": [
      "please enter a decimal number:10\n",
      "please enter baseto convert the decimal:8\n",
      "number converted decimal 10 into base 8 is:0o12\n"
     ]
    }
   ],
   "source": [
    "#3. Write a Python Program to Convert Decimal to Binary, Octal and Hexadecimal?\n",
    "def convertDecimal(a):\n",
    "    converted=0\n",
    "    if b==2:\n",
    "        converted=bin(a)\n",
    "    if b==16:\n",
    "        converted=hex(a)\n",
    "    if b==8:\n",
    "        converted=oct(a)\n",
    "            \n",
    "    return converted\n",
    "           \n",
    "        \n",
    "try:    \n",
    "    num= int(input(\"please enter a decimal number:\"))\n",
    "    num1= int(input(\"please enter baseto convert the decimal:\"))\n",
    "    print(\"number converted decimal {0} into base {1} is:{2}\".format(num,num1,convertDecimal(num,num1)))\n",
    "     \n",
    "except:\n",
    "    \n",
    "    print(\"please enter the valid number\")"
   ]
  },
  {
   "cell_type": "code",
   "execution_count": 72,
   "metadata": {},
   "outputs": [
    {
     "name": "stdout",
     "output_type": "stream",
     "text": [
      "please enter a character:a\n",
      "ascii value of a is:97\n"
     ]
    }
   ],
   "source": [
    "#4. Write a Python Program To Find ASCII value of a character? \n",
    "char= input(\"please enter a character:\")\n",
    "if(len(char)>1):\n",
    "    print(\"enter one character only\")\n",
    "if(len(char)==1):\n",
    "    print(\"ascii value of {0} is:{1}\".format(char,ord(char)))\n"
   ]
  },
  {
   "cell_type": "code",
   "execution_count": 83,
   "metadata": {},
   "outputs": [
    {
     "name": "stdout",
     "output_type": "stream",
     "text": [
      "please enter a number1:12\n",
      "please enter a number2:2\n",
      "please enter a opertion from +,-,* or /:+\n",
      "14\n",
      "please enter a number2:2\n",
      "please enter a opertion from +,-,* or /:*\n",
      "28\n",
      "please enter a number2:4\n",
      "please enter a opertion from +,-,* or /:-\n",
      "24\n",
      "please enter a number2:3\n",
      "please enter a opertion from +,-,* or /:+\n",
      "27\n",
      "please enter a number2:3\n",
      "please enter a opertion from +,-,* or /:c\n",
      "please enter valid operation\n"
     ]
    }
   ],
   "source": [
    "#5. Write a Python Program to Make a Simple Calculator with 4 basic mathematical operations?\n",
    "def getCal(a,b,oper):\n",
    "    if oper=='+':\n",
    "        return a+b\n",
    "    if oper=='-':\n",
    "        return a-b\n",
    "    if oper=='*':\n",
    "        return a*b\n",
    "    if oper=='/':\n",
    "        return a/b\n",
    "    \n",
    "        \n",
    "try: \n",
    "    result=0\n",
    "    count=0\n",
    "    num= int(input(\"please enter a number1:\"))\n",
    "    while (count>=0):\n",
    "        num2= int(input(\"please enter a number2:\"))\n",
    "        oper= input(\"please enter a opertion from +,-,* or /:\")\n",
    "        if(oper=='+' or oper=='-' or oper=='*' or oper=='/'):\n",
    "            if count==0:\n",
    "                result=getCal(num,num2,oper)\n",
    "            else:\n",
    "                result=getCal(result,num2,oper)\n",
    "            print(result)\n",
    "        else:\n",
    "            print(\"please enter valid operation\")\n",
    "            # used break here to exit so program doesnot keep running infinetly\n",
    "            break\n",
    "        count+=1\n",
    "            \n",
    "\n",
    "except:\n",
    "    \n",
    "    print(\"please enter the valid number\")\n",
    "    "
   ]
  },
  {
   "cell_type": "code",
   "execution_count": null,
   "metadata": {},
   "outputs": [],
   "source": []
  }
 ],
 "metadata": {
  "kernelspec": {
   "display_name": "Python 3",
   "language": "python",
   "name": "python3"
  },
  "language_info": {
   "codemirror_mode": {
    "name": "ipython",
    "version": 3
   },
   "file_extension": ".py",
   "mimetype": "text/x-python",
   "name": "python",
   "nbconvert_exporter": "python",
   "pygments_lexer": "ipython3",
   "version": "3.7.4"
  }
 },
 "nbformat": 4,
 "nbformat_minor": 2
}
