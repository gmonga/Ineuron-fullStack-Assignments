{
 "cells": [
  {
   "cell_type": "code",
   "execution_count": 14,
   "metadata": {},
   "outputs": [
    {
     "name": "stdout",
     "output_type": "stream",
     "text": [
      "please enter a number4\n",
      "factorial of 4 is:24\n"
     ]
    }
   ],
   "source": [
    "#1. Write a Python Program to Find the Factorial of a Number?\n",
    "\n",
    "try:\n",
    "    num= int(input(\"please enter a number\"))\n",
    "    fac=num\n",
    "    fact=1\n",
    "    while(num>=1):\n",
    "        fact=fact*num\n",
    "        num=num-1\n",
    "    print(\"factorial of {0} is:{1}\".format(fac,fact))\n",
    "except:\n",
    "    print(\"please enter a valid number\")"
   ]
  },
  {
   "cell_type": "code",
   "execution_count": 16,
   "metadata": {},
   "outputs": [
    {
     "name": "stdout",
     "output_type": "stream",
     "text": [
      "please enter table of a number10\n",
      "10 *1=10\n",
      "10 *2=20\n",
      "10 *3=30\n",
      "10 *4=40\n",
      "10 *5=50\n",
      "10 *6=60\n",
      "10 *7=70\n",
      "10 *8=80\n",
      "10 *9=90\n",
      "10 *10=100\n"
     ]
    }
   ],
   "source": [
    "#2. Write a Python Program to Display the multiplication Table?\n",
    "try:\n",
    "    num= int(input(\"please enter table of a number\"))\n",
    "\n",
    "    for i in range(1,11):\n",
    "        print(\"{0} *{1}={2}\".format(num,i,(i*num)))\n",
    "\n",
    "except:\n",
    "    print(\"please enter a valid number\")"
   ]
  },
  {
   "cell_type": "code",
   "execution_count": 21,
   "metadata": {},
   "outputs": [
    {
     "name": "stdout",
     "output_type": "stream",
     "text": [
      "please enter number of elements required in fibonocci series:3\n",
      "Fibonacci sequence:\n",
      "0\n",
      "1\n",
      "1\n"
     ]
    }
   ],
   "source": [
    "#3. Write a Python Program to Print the Fibonacci sequence?\n",
    "try:\n",
    "    nterms= int(input(\"please enter number of elements required in fibonocci series:\"))\n",
    "    a=0\n",
    "    b=1\n",
    "    count=0\n",
    "    if(nterms==1):\n",
    "        print(\"Fibonacci sequence:\",a)\n",
    "    if(nterms>2):\n",
    "        print(\"Fibonacci sequence:\")\n",
    "        while count < nterms:\n",
    "            print(a)\n",
    "            c = a + b\n",
    "            # update values\n",
    "            a = b\n",
    "            b = c\n",
    "            count += 1\n",
    "        \n",
    "except:\n",
    "    print(\"please enter a valid number\")"
   ]
  },
  {
   "cell_type": "code",
   "execution_count": 31,
   "metadata": {},
   "outputs": [
    {
     "name": "stdout",
     "output_type": "stream",
     "text": [
      "please enter a number153\n",
      "num 153 is armstrong number\n"
     ]
    }
   ],
   "source": [
    "#4. Write a Python Program to Check Armstrong Number?\n",
    "try:\n",
    "    s= input(\"please enter a number\")\n",
    "    numLength=len(s)\n",
    "    numSum=0\n",
    "    n=int(s)\n",
    "    while(n>0):\n",
    "        rem=n%10\n",
    "        numSum+=rem**numLength\n",
    "        n=n//10\n",
    "    if numSum==int(s):\n",
    "        print(\"num {0} is armstrong number\".format(s))\n",
    "    else:\n",
    "        print(\"num {0} is not a armstrong number\".format(s))\n",
    "\n",
    "except:\n",
    "    print(\"please enter a valid number\")"
   ]
  },
  {
   "cell_type": "code",
   "execution_count": 34,
   "metadata": {},
   "outputs": [
    {
     "name": "stdout",
     "output_type": "stream",
     "text": [
      "Enter the intervals for armstromg number\n",
      "please enter the starting interval:2\n",
      "please enter the starting interval:153\n",
      "2\n",
      "3\n",
      "4\n",
      "5\n",
      "6\n",
      "7\n",
      "8\n",
      "9\n",
      "153\n"
     ]
    }
   ],
   "source": [
    "#5. Write a Python Program to Find Armstrong Number in an Interval?\n",
    "try:\n",
    "    print(\"Enter the intervals for armstromg number\")\n",
    "    n1= int(input(\"please enter the starting interval:\"))\n",
    "    n2= int(input(\"please enter the ending interval:\"))\n",
    "    for i in range(n1,n2+1):\n",
    "            numLength=len(str(i))\n",
    "            numSum=0\n",
    "            n=i\n",
    "            while(n>0):\n",
    "                rem=n%10\n",
    "                numSum+=rem**numLength\n",
    "                n=n//10\n",
    "            if numSum==i:\n",
    "                print(i)\n",
    "            \n",
    "except:\n",
    "    print(\"please enter a valid range\")"
   ]
  },
  {
   "cell_type": "code",
   "execution_count": 41,
   "metadata": {},
   "outputs": [
    {
     "name": "stdout",
     "output_type": "stream",
     "text": [
      "Enter the no.of natural no. sum is required:10\n",
      " sum of 10 natural no. is:55\n"
     ]
    }
   ],
   "source": [
    "#6. Write a Python Program to Find the Sum of Natural Numbers?\n",
    "try:\n",
    "    total=0\n",
    "    n= int(input(\"Enter the no.of natural no. sum is required:\"))\n",
    "    for i in range(1,n+1):\n",
    "        total+=i\n",
    "    print(\" sum of {0} natural no. is:{1}\".format(n,total))\n",
    "except:\n",
    "    print(\"enter the valid input\")\n",
    "    \n"
   ]
  }
 ],
 "metadata": {
  "kernelspec": {
   "display_name": "Python 3",
   "language": "python",
   "name": "python3"
  },
  "language_info": {
   "codemirror_mode": {
    "name": "ipython",
    "version": 3
   },
   "file_extension": ".py",
   "mimetype": "text/x-python",
   "name": "python",
   "nbconvert_exporter": "python",
   "pygments_lexer": "ipython3",
   "version": "3.7.4"
  }
 },
 "nbformat": 4,
 "nbformat_minor": 2
}
