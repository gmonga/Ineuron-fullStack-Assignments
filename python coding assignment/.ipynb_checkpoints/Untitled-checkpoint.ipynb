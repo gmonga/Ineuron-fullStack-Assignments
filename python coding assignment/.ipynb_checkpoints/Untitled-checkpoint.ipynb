{
 "cells": [
  {
   "cell_type": "code",
   "execution_count": 67,
   "metadata": {},
   "outputs": [
    {
     "name": "stdout",
     "output_type": "stream",
     "text": [
      "sum of array: 15\n"
     ]
    }
   ],
   "source": [
    "#1. Write a Python Program to find sum of array?\n",
    "def sumArray(arr):\n",
    "    s=0\n",
    "    for i in range(len(arr)):\n",
    "        if (type(arr[i])==int or type(arr[i])==float):\n",
    "            s+=arr[i]\n",
    "    return s\n",
    "\n",
    "ar=(1,2,3,4,5)\n",
    "print(\"sum of array:\",sumArray(ar))\n"
   ]
  },
  {
   "cell_type": "code",
   "execution_count": null,
   "metadata": {},
   "outputs": [],
   "source": [
    "#2. Write a Python Program to find largest element in an array?\n",
    "def getLargest(arr):\n",
    "    l=arr[0]\n",
    "    for i in range(1,len(arr)):\n",
    "        s+=arr[i]\n",
    "    return s\n",
    "\n",
    "ar=[1,2,3,4,5]\n",
    "print(\"sum of array:\",sumArray(ar))"
   ]
  },
  {
   "cell_type": "code",
   "execution_count": 52,
   "metadata": {},
   "outputs": [
    {
     "name": "stdout",
     "output_type": "stream",
     "text": [
      "Roatated array : [2, 3, 4, 5, 6, 6, 7, 8, 8, 9, 10, 1]\n"
     ]
    }
   ],
   "source": [
    "#3. Write a Python Program for array rotation?\n",
    "def arrRot(arr):\n",
    "    temp = arr[0]\n",
    "    for i in range(len(arr)-1):\n",
    "        arr[i] = arr[i+1]\n",
    "    arr[len(arr)-1] = temp\n",
    "    return arr\n",
    "ar=[1,2,3,4,5,6,6,7,8,8,9,10]\n",
    "print(\"Roatated array :\",arrRot(ar))\n",
    "\n"
   ]
  },
  {
   "cell_type": "code",
   "execution_count": 68,
   "metadata": {},
   "outputs": [
    {
     "name": "stdout",
     "output_type": "stream",
     "text": [
      "Roatated array : [4, 5, 1, 2, 3]\n"
     ]
    }
   ],
   "source": [
    "#4. Write a Python Program to Split the array and add the first part to the end?\n",
    "def splitRotation(array,splitIndex):\n",
    "    for i in range(splitIndex): \n",
    "        temp = array[0]\n",
    "        for j in range(len(array)-1):\n",
    "            array[j] = array[j + 1]\n",
    "        array[len(array)-1] = temp\n",
    "    return array\n",
    "ar=[1,2,3,4,5]\n",
    "print(\"split Roatated array :\",splitRotation(ar,3))"
   ]
  },
  {
   "cell_type": "code",
   "execution_count": 4,
   "metadata": {},
   "outputs": [
    {
     "name": "stdout",
     "output_type": "stream",
     "text": [
      "True\n"
     ]
    }
   ],
   "source": [
    "#5. Write a Python Program to check if given array is Monotonic?\n",
    "def isMonotonic(lst):\n",
    "  \n",
    "    return (all(lst[i] <= lst[i + 1] for i in range(len(lst) - 1)) or all(lst[i] >= lst[i + 1] for i in range(len(lst) - 1)))\n",
    "# Driver program\n",
    "l = [6, 5, 4, 4]\n",
    "  \n",
    "# Print required result\n",
    "print(isMonotonic(l))"
   ]
  }
 ],
 "metadata": {
  "kernelspec": {
   "display_name": "Python 3",
   "language": "python",
   "name": "python3"
  },
  "language_info": {
   "codemirror_mode": {
    "name": "ipython",
    "version": 3
   },
   "file_extension": ".py",
   "mimetype": "text/x-python",
   "name": "python",
   "nbconvert_exporter": "python",
   "pygments_lexer": "ipython3",
   "version": "3.7.4"
  }
 },
 "nbformat": 4,
 "nbformat_minor": 2
}
