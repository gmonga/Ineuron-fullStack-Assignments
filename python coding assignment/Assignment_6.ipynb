{
 "cells": [
  {
   "cell_type": "code",
   "execution_count": 1,
   "metadata": {},
   "outputs": [
    {
     "name": "stdout",
     "output_type": "stream",
     "text": [
      "please enter a number:4\n",
      "Fibonacci sequence:\n",
      "0\n",
      "1\n",
      "1\n",
      "2\n"
     ]
    }
   ],
   "source": [
    "#1. Write a Python Program to Display Fibonacci Sequence Using Recursion?\n",
    "def getFib(n):\n",
    "    if n <= 1:\n",
    "        return n  \n",
    "    else:\n",
    "        return(getFib(n-1) + getFib(n-2))\n",
    "\n",
    "            \n",
    "try:    \n",
    "    num= int(input(\"please enter a number:\"))\n",
    "    \n",
    "    if num <= 0:  \n",
    "        print(\"Plese enter a positive integer\")  \n",
    "    else:\n",
    "        print(\"Fibonacci sequence:\")  \n",
    "        for i in range(num):\n",
    "            print(getFib(i))\n",
    "except:\n",
    "    print(\"please enter a valid positive number\")"
   ]
  },
  {
   "cell_type": "code",
   "execution_count": 5,
   "metadata": {},
   "outputs": [
    {
     "name": "stdout",
     "output_type": "stream",
     "text": [
      "please enter a number:5\n",
      "factorial is: 120\n"
     ]
    }
   ],
   "source": [
    "#2. Write a Python Program to Find Factorial of Number Using Recursion?\n",
    "def getFact(n):\n",
    "    if n <= 1:\n",
    "        return n \n",
    "    else:\n",
    "        return(n*getFact(n-1))\n",
    "try:    \n",
    "    num= int(input(\"please enter a number:\"))\n",
    "    \n",
    "    if num <= 0:  \n",
    "        print(\"Plese enter a positive integer\")  \n",
    "    else:\n",
    "        print(\"factorial is:\",getFact(num))\n",
    "finally:\n",
    "    pass"
   ]
  },
  {
   "cell_type": "code",
   "execution_count": 9,
   "metadata": {},
   "outputs": [
    {
     "name": "stdout",
     "output_type": "stream",
     "text": [
      "please enter weight in kgs:67\n",
      "please enter height in cms:167\n",
      "Bmi index of person is: 24.023808670084982\n"
     ]
    }
   ],
   "source": [
    "#3. Write a Python Program to calculate your Body Mass Index?\n",
    "import math\n",
    "def getBmi(w,h):\n",
    "    return w/math.pow(h/100,2)\n",
    "try:\n",
    "    wt= float(input(\"please enter weight in kgs:\"))\n",
    "    ht= float(input(\"please enter height in cms:\"))\n",
    "    if( wt >0 and ht>0):\n",
    "        print(\"Bmi index of person is:\",getBmi(wt,ht))\n",
    "    else:\n",
    "        print(\"Plese enter a positive integer\")  \n",
    "finally:\n",
    "    pass\n"
   ]
  },
  {
   "cell_type": "code",
   "execution_count": 13,
   "metadata": {},
   "outputs": [
    {
     "name": "stdout",
     "output_type": "stream",
     "text": [
      "please enter a postive number:10\n",
      "natural log of the number is: 2.302585092994046\n"
     ]
    }
   ],
   "source": [
    "#4. Write a Python Program to calculate the natural logarithm of any number?\n",
    "\n",
    "t= float(input(\"please enter a postive number:\"))\n",
    "if t>0:\n",
    "    print(\"natural log of the number is:\",math.log(t))\n",
    "else:\n",
    "    print(\"Plese enter a positive number\")\n",
    "\n",
    "\n"
   ]
  },
  {
   "cell_type": "code",
   "execution_count": 18,
   "metadata": {},
   "outputs": [
    {
     "name": "stdout",
     "output_type": "stream",
     "text": [
      "please enter how many natural number cube you want:-2\n",
      "Plese enter a natural number1\n"
     ]
    }
   ],
   "source": [
    "#5. Write a Python Program for cube sum of first n natural numbers?\n",
    "def getCube(n):\n",
    "    return (n*n*n)\n",
    "\n",
    "try:\n",
    "    t= int(input(\"please enter how many natural number cube you want:\"))\n",
    "    if(t>0):\n",
    "        print(\"cube of natural number are:\")\n",
    "        for i in range(1,t+1):\n",
    "            print(getCube(i))\n",
    "    else:\n",
    "        print(\"Plese enter a natural number\")\n",
    "except:\n",
    "    print(\"Plese enter a natural number\")\n",
    "\n",
    "\n",
    "    "
   ]
  }
 ],
 "metadata": {
  "kernelspec": {
   "display_name": "Python 3",
   "language": "python",
   "name": "python3"
  },
  "language_info": {
   "codemirror_mode": {
    "name": "ipython",
    "version": 3
   },
   "file_extension": ".py",
   "mimetype": "text/x-python",
   "name": "python",
   "nbconvert_exporter": "python",
   "pygments_lexer": "ipython3",
   "version": "3.7.4"
  }
 },
 "nbformat": 4,
 "nbformat_minor": 2
}
