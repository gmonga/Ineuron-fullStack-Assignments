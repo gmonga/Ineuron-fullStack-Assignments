{
 "cells": [
  {
   "cell_type": "code",
   "execution_count": 1,
   "metadata": {},
   "outputs": [
    {
     "name": "stdout",
     "output_type": "stream",
     "text": [
      "True False\n"
     ]
    }
   ],
   "source": [
    "#1.What are the two values of the Boolean data type? How do you write them?\n",
    "\n",
    "# two different values of boolean data type is True or False, we can define these in variable as explain below:\n",
    "\n",
    "bool_true=True\n",
    "bool_false=False\n",
    "\n",
    "print(bool_true,bool_false)"
   ]
  },
  {
   "cell_type": "code",
   "execution_count": 2,
   "metadata": {},
   "outputs": [],
   "source": [
    "#2. What are the three different types of Boolean operators?\n",
    "\n",
    "#Three boolean operator are: And,Or and Not"
   ]
  },
  {
   "cell_type": "code",
   "execution_count": null,
   "metadata": {},
   "outputs": [],
   "source": [
    "#3. Make a list of each Boolean operator's truth tables (i.e. every possible combination of Boolean values for the operator and what it evaluate )."
   ]
  },
  {
   "cell_type": "code",
   "execution_count": 6,
   "metadata": {},
   "outputs": [
    {
     "data": {
      "text/plain": [
       "False"
      ]
     },
     "execution_count": 6,
     "metadata": {},
     "output_type": "execute_result"
    }
   ],
   "source": [
    "#4. What are the values of the following expressions?\n",
    "# (5 > 4) and (3 == 5)  False\n",
    "# not (5 &gt; 4)  True\n",
    "#(5 &gt; 4) or (3 == 5)  True\n",
    "# not ((5 > 4) or (3 == 5)) False\n",
    "# (True and True) and (True == False) False\n",
    "# (not False) or (not True) True\n"
   ]
  },
  {
   "cell_type": "code",
   "execution_count": null,
   "metadata": {},
   "outputs": [],
   "source": [
    "#5. What are the six comparison operators?\n",
    "\n",
    "#Six comparison opertor are >,<,<=,>=,===,!=="
   ]
  },
  {
   "cell_type": "code",
   "execution_count": 3,
   "metadata": {},
   "outputs": [
    {
     "name": "stdout",
     "output_type": "stream",
     "text": [
      "true\n"
     ]
    }
   ],
   "source": [
    "#6. How do you tell the difference between the equal to and assignment operators?Describe a condition and when you would use one.\n",
    "\n",
    "#assignment opertor is used to assign the value to the variable using \"=\" \n",
    "# equal to operator is a comparsion operator to check if the variable is equal to the given value using \"==\" below are the given examples\n",
    "\n",
    "a=10 #assignment\n",
    "if a==10:\n",
    "    print(\"true\") # comparison\n"
   ]
  },
  {
   "cell_type": "code",
   "execution_count": 5,
   "metadata": {},
   "outputs": [
    {
     "name": "stdout",
     "output_type": "stream",
     "text": [
      "ham\n",
      "spam\n",
      "spam\n"
     ]
    }
   ],
   "source": [
    "#Identify the three blocks in this code:\n",
    "spam = 0\n",
    "if spam == 10: \n",
    "    print(\"eggs\")  #1st if block\n",
    "if spam > 5:\n",
    "    print(\"bacon\") #2nd if block\n",
    "else:\n",
    "    print(\"ham\")   #else block\n",
    "    print(\"spam\")\n",
    "    print(\"spam\")"
   ]
  },
  {
   "cell_type": "code",
   "execution_count": 6,
   "metadata": {},
   "outputs": [
    {
     "name": "stdout",
     "output_type": "stream",
     "text": [
      "Greetings!\n"
     ]
    }
   ],
   "source": [
    "#8. Write code that prints Hello if 1 is stored in spam, prints Howdy if 2 is stored in spam, and printsGreetings! if anything else is stored in spam.\n",
    "spam=0\n",
    "if spam == 1:\n",
    "    print(\"Hello\")\n",
    "elif spam == 2:\n",
    "    print(\"Howdy\")\n",
    "else:\n",
    "    print(\"Greetings!\")\n"
   ]
  },
  {
   "cell_type": "code",
   "execution_count": 7,
   "metadata": {},
   "outputs": [],
   "source": [
    "#9.If your programme is stuck in an endless loop, what keys you’ll press?\n",
    "# Ctrl + C"
   ]
  },
  {
   "cell_type": "code",
   "execution_count": 10,
   "metadata": {},
   "outputs": [
    {
     "name": "stdout",
     "output_type": "stream",
     "text": [
      "break statement 0\n",
      "break statement 1\n",
      "break statement 2\n",
      "break statement 3\n",
      "cont statement 3\n",
      "cont statement 4\n"
     ]
    }
   ],
   "source": [
    "#10. How can you tell the difference between break and continue?\n",
    "\n",
    "#break statement is used to getout of the loop and stop its further execution.\n",
    "#continue statement is used to bypass the below statments in the loop and allow loop to continue . example are below\n",
    "\n",
    "for i in range(5):\n",
    "    if i>3:\n",
    "        break\n",
    "    else:\n",
    "        print(\"break statement\",i)\n",
    "        \n",
    "for i in range(5):\n",
    "    if i<3:\n",
    "        continue\n",
    "    else:\n",
    "        print(\"cont statement\",i)\n",
    "    "
   ]
  },
  {
   "cell_type": "code",
   "execution_count": 12,
   "metadata": {},
   "outputs": [
    {
     "name": "stdout",
     "output_type": "stream",
     "text": [
      "no start range 0\n",
      "no start range 1\n",
      "no start range 2\n",
      "no start range 3\n",
      "no start range 4\n",
      "no start range 5\n",
      "no start range 6\n",
      "no start range 7\n",
      "no start range 8\n",
      "no start range 9\n",
      "start range 0 0\n",
      "start range 0 1\n",
      "start range 0 2\n",
      "start range 0 3\n",
      "start range 0 4\n",
      "start range 0 5\n",
      "start range 0 6\n",
      "start range 0 7\n",
      "start range 0 8\n",
      "start range 0 9\n",
      "start range 0, inc by 1 0\n",
      "start range 0, inc by 1 1\n",
      "start range 0, inc by 1 2\n",
      "start range 0, inc by 1 3\n",
      "start range 0, inc by 1 4\n",
      "start range 0, inc by 1 5\n",
      "start range 0, inc by 1 6\n",
      "start range 0, inc by 1 7\n",
      "start range 0, inc by 1 8\n",
      "start range 0, inc by 1 9\n"
     ]
    }
   ],
   "source": [
    "#11. In a for loop, what is the difference between range(10), range(0, 10), and range(0, 10, 1)?\n",
    "\n",
    "#there is no difference b/w the above given range statment as range by default starts from 0 and increment by 1.\n",
    "\n",
    "for i in range(10):\n",
    "    print(\"no start range\",i)\n",
    "for i in range(0,10):\n",
    "    print(\"start range 0\",i)\n",
    "for i in range(0,10,):\n",
    "    print(\"start range 0, inc by 1\",i)"
   ]
  },
  {
   "cell_type": "code",
   "execution_count": 13,
   "metadata": {},
   "outputs": [
    {
     "name": "stdout",
     "output_type": "stream",
     "text": [
      "1\n",
      "2\n",
      "3\n",
      "4\n",
      "5\n",
      "6\n",
      "7\n",
      "8\n",
      "9\n",
      "10\n",
      "1\n",
      "2\n",
      "3\n",
      "4\n",
      "5\n",
      "6\n",
      "7\n",
      "8\n",
      "9\n",
      "10\n"
     ]
    }
   ],
   "source": [
    "#12. Write a short program that prints the numbers 1 to 10 using a for loop. Then write an equivalent\n",
    "#program that prints the numbers 1 to 10 using a while loop.\n",
    "\n",
    "for i in range(1,11):\n",
    "    print(i)\n",
    "count=1   \n",
    "while count<=10:\n",
    "    print(count)\n",
    "    count+=1"
   ]
  },
  {
   "cell_type": "code",
   "execution_count": 14,
   "metadata": {},
   "outputs": [],
   "source": [
    "#13. If you had a function named bacon() inside a module named spam, how would you call it afterimporting spam?\n",
    "\n",
    "#from spam import bacon"
   ]
  }
 ],
 "metadata": {
  "kernelspec": {
   "display_name": "Python 3",
   "language": "python",
   "name": "python3"
  },
  "language_info": {
   "codemirror_mode": {
    "name": "ipython",
    "version": 3
   },
   "file_extension": ".py",
   "mimetype": "text/x-python",
   "name": "python",
   "nbconvert_exporter": "python",
   "pygments_lexer": "ipython3",
   "version": "3.7.4"
  }
 },
 "nbformat": 4,
 "nbformat_minor": 2
}
