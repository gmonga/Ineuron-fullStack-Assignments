{
 "cells": [
  {
   "cell_type": "markdown",
   "metadata": {},
   "source": [
    "1. What advantages do Excel spreadsheets have over CSV spreadsheets?\n",
    "    Excel (XLS and XLSX) file formats are better for storing more complex data.An Excel not only    stores data but can also do operations on the data\n",
    "    \n",
    "    CSV files are plain-text files,does not contain formatting, formulas, macros, etc. It is also known as flat files"
   ]
  },
  {
   "cell_type": "markdown",
   "metadata": {},
   "source": [
    "2.What do you pass to csv.reader() and csv.writer() to create reader and writer objects?\n",
    "csv.reader()# it require iterable object, reader(iterable [, dialect='excel'][optional keyword args])\n",
    "csv.writer()# it require the file object, csv.writer(fileobj [, dialect='excel'][optional keyword args])"
   ]
  },
  {
   "cell_type": "markdown",
   "metadata": {},
   "source": [
    "3. What modes do File objects for reader and writer objects need to be opened in?\n",
    "    File objects need to be opened in read-binary ('rb') for Reader objects and write-binary ('wb') for Writer objects."
   ]
  },
  {
   "cell_type": "markdown",
   "metadata": {},
   "source": [
    "4. What method takes a list argument and writes it to a CSV file?\n",
    "    The writerow() method\n"
   ]
  },
  {
   "cell_type": "markdown",
   "metadata": {},
   "source": [
    "5. What do the keyword arguments delimiter and line terminator do?\n",
    "    The delimiter argument changes the string used to separate cells in a row.\n",
    "    The lineterminator argument changes the string used to separate rows."
   ]
  },
  {
   "cell_type": "markdown",
   "metadata": {},
   "source": [
    "6. What function takes a string of JSON data and returns a Python data structure?\n",
    "    json.loads()\n",
    "    "
   ]
  },
  {
   "cell_type": "markdown",
   "metadata": {},
   "source": [
    "7. What function takes a Python data structure and returns a string of JSON data?\n",
    "    json.dumps()"
   ]
  },
  {
   "cell_type": "code",
   "execution_count": null,
   "metadata": {},
   "outputs": [],
   "source": []
  },
  {
   "cell_type": "code",
   "execution_count": null,
   "metadata": {},
   "outputs": [],
   "source": []
  }
 ],
 "metadata": {
  "kernelspec": {
   "display_name": "Python 3",
   "language": "python",
   "name": "python3"
  },
  "language_info": {
   "codemirror_mode": {
    "name": "ipython",
    "version": 3
   },
   "file_extension": ".py",
   "mimetype": "text/x-python",
   "name": "python",
   "nbconvert_exporter": "python",
   "pygments_lexer": "ipython3",
   "version": "3.7.4"
  }
 },
 "nbformat": 4,
 "nbformat_minor": 2
}
