{
 "cells": [
  {
   "cell_type": "code",
   "execution_count": 39,
   "metadata": {},
   "outputs": [
    {
     "data": {
      "text/plain": [
       "[]"
      ]
     },
     "execution_count": 39,
     "metadata": {},
     "output_type": "execute_result"
    }
   ],
   "source": [
    "#1. What exactly is []?\n",
    "# The empty list value,list value that contains no items.The empty list value, which is a list value that contains no items. This is similar to how '' is the empty string value.\n",
    "lst=[] # creating an empty list\n",
    "lst"
   ]
  },
  {
   "cell_type": "code",
   "execution_count": 40,
   "metadata": {},
   "outputs": [
    {
     "data": {
      "text/plain": [
       "[2, 4, 'Hello', 8, 10]"
      ]
     },
     "execution_count": 40,
     "metadata": {},
     "output_type": "execute_result"
    }
   ],
   "source": [
    "#2. In a list of values stored in a variable called spam, how would you assign the value 'hello' as thethird value? (Assume [2, 4, 6, 8, 10] are in spam.)\n",
    "spam =[2, 4, 6, 8, 10]\n",
    "spam[2]='Hello'\n",
    "spam"
   ]
  },
  {
   "cell_type": "code",
   "execution_count": 42,
   "metadata": {},
   "outputs": [
    {
     "data": {
      "text/plain": [
       "'d'"
      ]
     },
     "execution_count": 42,
     "metadata": {},
     "output_type": "execute_result"
    }
   ],
   "source": [
    "#3. What is the value of spam[int(int(3 * 2) / 11)]?\n",
    "spam =['a', 'b', 'c', 'd']\n",
    "spam[int(int('3' * 2) / 11)] # 'd' (Note that '3' * 2 is the string '33', which is passed to int() before being divided by 11.\n",
    "                            #This eventually evaluates to 3 and print spam[3]"
   ]
  },
  {
   "cell_type": "code",
   "execution_count": 43,
   "metadata": {},
   "outputs": [
    {
     "data": {
      "text/plain": [
       "'d'"
      ]
     },
     "execution_count": 43,
     "metadata": {},
     "output_type": "execute_result"
    }
   ],
   "source": [
    "#4. What is the value of spam[-1]?\n",
    "#'d' (Negative indexes count from the end.)\n",
    "spam[-1]\n"
   ]
  },
  {
   "cell_type": "code",
   "execution_count": 45,
   "metadata": {},
   "outputs": [
    {
     "data": {
      "text/plain": [
       "['a', 'b']"
      ]
     },
     "execution_count": 45,
     "metadata": {},
     "output_type": "execute_result"
    }
   ],
   "source": [
    "#5.What is the value of spam[:2]?\n",
    "# prints ['a','b']  as [:2] refers starting from 0th element to excluding 2nd\n",
    "spam[:2]"
   ]
  },
  {
   "cell_type": "code",
   "execution_count": 46,
   "metadata": {},
   "outputs": [
    {
     "data": {
      "text/plain": [
       "1"
      ]
     },
     "execution_count": 46,
     "metadata": {},
     "output_type": "execute_result"
    }
   ],
   "source": [
    "#Let&#39;s pretend bacon has the list [3.14, 'cat',11,'cat', True] for the next three questions.\n",
    "#6. What is the value of bacon.index('cat')?\n",
    "#it will print 1 as index fn will return index of first occurence of cat \n",
    "\n",
    "bacon= [3.14, 'cat',11,'cat', True]\n",
    "bacon.index('cat')"
   ]
  },
  {
   "cell_type": "code",
   "execution_count": 47,
   "metadata": {},
   "outputs": [
    {
     "data": {
      "text/plain": [
       "[3.14, 'cat', 11, 'cat', True, 99]"
      ]
     },
     "execution_count": 47,
     "metadata": {},
     "output_type": "execute_result"
    }
   ],
   "source": [
    "#7. How does bacon.append(99) change the look of the list value in bacon?\n",
    "# bacon.append(99) will add the value 99 at the last  to the list and print new value on printing bacon\n",
    "bacon.append(99)\n",
    "bacon"
   ]
  },
  {
   "cell_type": "code",
   "execution_count": 48,
   "metadata": {},
   "outputs": [
    {
     "data": {
      "text/plain": [
       "[3.14, 11, 'cat', True, 99]"
      ]
     },
     "execution_count": 48,
     "metadata": {},
     "output_type": "execute_result"
    }
   ],
   "source": [
    "#8. How does bacon.remove('cat') change the look of the list in bacon?\n",
    "# bacon.remove('cat') will remove first occuence the value of cat from the list\n",
    "bacon.remove('cat')\n",
    "bacon"
   ]
  },
  {
   "cell_type": "code",
   "execution_count": 51,
   "metadata": {},
   "outputs": [],
   "source": [
    "#9. What are the list concatenation and list replication operators?\n",
    "#The operator for list concatenation is +, while the operator for replication is *."
   ]
  },
  {
   "cell_type": "code",
   "execution_count": 50,
   "metadata": {},
   "outputs": [
    {
     "data": {
      "text/plain": [
       "[1, 'a', 'b', 'c', 'd']"
      ]
     },
     "execution_count": 50,
     "metadata": {},
     "output_type": "execute_result"
    }
   ],
   "source": [
    "#10. What is difference between the list methods append() and insert()?\n",
    "#append() will add values only to the end of a list, insert() can add them anywhere in the list as it takes the position where to be inserted.\n",
    "lst=['a','b','c']\n",
    "lst.append('d')\n",
    "lst.insert(0,1)\n",
    "lst"
   ]
  },
  {
   "cell_type": "code",
   "execution_count": 56,
   "metadata": {},
   "outputs": [],
   "source": [
    "#11. What are the two methods for removing items from a list?\n",
    "#The del statement and the remove() method are two ways to remove values from a list.\n",
    "#lst.remove('d')\n",
    "#del(lst)\n"
   ]
  },
  {
   "cell_type": "code",
   "execution_count": 58,
   "metadata": {},
   "outputs": [
    {
     "name": "stdout",
     "output_type": "stream",
     "text": [
      "13\n"
     ]
    }
   ],
   "source": [
    "#12. Describe how list values and string values are identical.\n",
    "#Both lists and strings can be passed to len(), have indexes and slices, be used in for loops, be concatenated or replicated, and be used with the in and not in operators"
   ]
  },
  {
   "cell_type": "code",
   "execution_count": 59,
   "metadata": {},
   "outputs": [],
   "source": [
    "#13. What's the difference between tuples and lists?\n",
    "# lists use the square brackets [ ],they are mutable means values can be added, removed, or changed.\n",
    "#Tuples are written using parentheses (  ),they are immutable and cannot be altered at all"
   ]
  },
  {
   "cell_type": "code",
   "execution_count": 62,
   "metadata": {},
   "outputs": [
    {
     "data": {
      "text/plain": [
       "tuple"
      ]
     },
     "execution_count": 62,
     "metadata": {},
     "output_type": "execute_result"
    }
   ],
   "source": [
    "#How do you type a tuple value that only contains the integer 42?\n",
    "# (42,) trailing comma is mandatory else it will be considered as int\n",
    "test=(42,)\n",
    "type(test)"
   ]
  },
  {
   "cell_type": "code",
   "execution_count": 63,
   "metadata": {},
   "outputs": [
    {
     "name": "stdout",
     "output_type": "stream",
     "text": [
      "(1, 2, 3, 4, 5)\n"
     ]
    }
   ],
   "source": [
    "#15. How do you get a list values tuple form? How do you get a tuple values list form?\n",
    "#using The tuple() and list() functions\n",
    "\n",
    "lst=[1,2,3,4,5]\n",
    "print(tuple(lst))\n",
    "\n",
    "tup=(1, 2, 3, 4, 5)\n",
    "print(list(tup))\n"
   ]
  },
  {
   "cell_type": "code",
   "execution_count": 64,
   "metadata": {},
   "outputs": [
    {
     "data": {
      "text/plain": [
       "(1, 2, 3, [1, 2, 3, 4, 5])"
      ]
     },
     "execution_count": 64,
     "metadata": {},
     "output_type": "execute_result"
    }
   ],
   "source": [
    "#16. Variables that &quot;contain&quot; list values are not necessarily lists themselves. Instead, what do they contain?\n",
    "# these variable contain references to list values.\n",
    "a=[1,2,3,4,5]\n",
    "tup=(1,2,3,a)\n",
    "tup"
   ]
  },
  {
   "cell_type": "code",
   "execution_count": 65,
   "metadata": {},
   "outputs": [],
   "source": [
    "#17. How do you distinguish between copy.copy() and copy.deepcopy()?\n",
    "#The copy.copy() function will do a shallow copy of a list and refer to the same memory location and changes done to old list will be visible in new list \n",
    "#copy.deepcopy() function will do a deep copy of a list and refer to new location of the memory(independent of the old list) and doesn't impact the new list"
   ]
  }
 ],
 "metadata": {
  "kernelspec": {
   "display_name": "Python 3",
   "language": "python",
   "name": "python3"
  },
  "language_info": {
   "codemirror_mode": {
    "name": "ipython",
    "version": 3
   },
   "file_extension": ".py",
   "mimetype": "text/x-python",
   "name": "python",
   "nbconvert_exporter": "python",
   "pygments_lexer": "ipython3",
   "version": "3.7.4"
  }
 },
 "nbformat": 4,
 "nbformat_minor": 2
}
