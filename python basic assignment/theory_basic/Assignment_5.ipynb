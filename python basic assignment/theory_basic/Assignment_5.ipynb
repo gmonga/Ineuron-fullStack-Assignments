{
 "cells": [
  {
   "cell_type": "code",
   "execution_count": null,
   "metadata": {},
   "outputs": [],
   "source": [
    "3. What is the most significant distinction between a dictionary and a list?\n",
    "4. What happens if you try to access spam[&#39;foo&#39;] if spam is {&#39;bar&#39;: 100}?\n",
    "&#39;cat&#39; in spam.keys()?\n",
    "\n",
    "7. What is a shortcut for the following code?\n",
    "if 'color' not in spam:\n",
    "spam['color'] = 'black'\n",
    "\n",
    "8. How do you &quot;pretty print&quot; dictionary values using which module and function?"
   ]
  },
  {
   "cell_type": "code",
   "execution_count": 3,
   "metadata": {},
   "outputs": [],
   "source": [
    "#1. What does an empty dictionary's code look like?\n",
    "#Empty  looks like {}"
   ]
  },
  {
   "cell_type": "code",
   "execution_count": 2,
   "metadata": {},
   "outputs": [
    {
     "data": {
      "text/plain": [
       "{'foo': 42}"
      ]
     },
     "execution_count": 2,
     "metadata": {},
     "output_type": "execute_result"
    }
   ],
   "source": [
    "#2. What is the value of a dictionary value with the key 'foo' and the value 42?\n",
    "dic={'foo':42}\n",
    "dic"
   ]
  },
  {
   "cell_type": "code",
   "execution_count": 4,
   "metadata": {},
   "outputs": [],
   "source": [
    "#3. What is the most significant distinction between a dictionary and a list?\n",
    "#List is ordered,it store data only values\n",
    "#dictionary is unordered and store data as key-value pair "
   ]
  },
  {
   "cell_type": "code",
   "execution_count": 5,
   "metadata": {},
   "outputs": [],
   "source": [
    "#4. What happens if you try to access spam if spam is {'bar': 100}?\n",
    "#You get a KeyError error."
   ]
  },
  {
   "cell_type": "code",
   "execution_count": 6,
   "metadata": {},
   "outputs": [],
   "source": [
    "#5. If a dictionary is stored in spam, what is the difference between the expressions 'cat' in spam and'cat' in spam.keys()?\n",
    "# There is no difference. The in operator checks whether a value exists as a key in the dictionary."
   ]
  },
  {
   "cell_type": "code",
   "execution_count": 7,
   "metadata": {},
   "outputs": [],
   "source": [
    "#6. If a dictionary is stored in spam, what is the difference between the expressions 'cat' in spam and'cat' in spam.values()?\n",
    "#'cat' in spam checks whether there is a 'cat' key in the dictionary, while 'cat' in spam.values() checks whether there is a value 'cat' for one of the keys in spam."
   ]
  },
  {
   "cell_type": "code",
   "execution_count": 8,
   "metadata": {},
   "outputs": [],
   "source": [
    "#7. What is a shortcut for the following code?\n",
    "#if 'color' not in spam:\n",
    "#spam['color'] = 'black'\n",
    "#Answer\n",
    "#spam.setdefault('color', 'black')"
   ]
  },
  {
   "cell_type": "code",
   "execution_count": 13,
   "metadata": {},
   "outputs": [
    {
     "name": "stdout",
     "output_type": "stream",
     "text": [
      "{'saa': 'dsgdh', 'ss': 'abc'}\n"
     ]
    }
   ],
   "source": [
    "#8. How do you 'pretty print' dictionary values using which module and function?\n",
    "import pprint\n",
    "pprint.pprint({'ss':'abc','saa':'dsgdh'})"
   ]
  },
  {
   "cell_type": "code",
   "execution_count": null,
   "metadata": {},
   "outputs": [],
   "source": []
  }
 ],
 "metadata": {
  "kernelspec": {
   "display_name": "Python 3",
   "language": "python",
   "name": "python3"
  },
  "language_info": {
   "codemirror_mode": {
    "name": "ipython",
    "version": 3
   },
   "file_extension": ".py",
   "mimetype": "text/x-python",
   "name": "python",
   "nbconvert_exporter": "python",
   "pygments_lexer": "ipython3",
   "version": "3.7.4"
  }
 },
 "nbformat": 4,
 "nbformat_minor": 2
}
