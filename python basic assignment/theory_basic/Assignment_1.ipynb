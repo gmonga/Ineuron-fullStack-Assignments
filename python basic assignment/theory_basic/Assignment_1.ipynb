{
 "cells": [
  {
   "cell_type": "code",
   "execution_count": 1,
   "metadata": {},
   "outputs": [],
   "source": [
    "#1. What are the differences between operators and values in the following?\n",
    "\n",
    "# * is a arthmetic operator\n",
    "# 'hello' is as string\n",
    "#  -87.8 is afloat value\n",
    "#  - / + are arthematic operators\n",
    "# 6 is the integer value"
   ]
  },
  {
   "cell_type": "code",
   "execution_count": 2,
   "metadata": {},
   "outputs": [],
   "source": [
    "#2. What is the difference between string and variable?\n",
    "\n",
    "# Spam as varaible is a local instance that can hold any value or data ( integer,string,float) or object as (list,set,tuples etc) example : spam=10 spam =12.3 spam=['abc',123,'sdghs']\n",
    "# 'Spam' as string is value of the string variable, string is imuatable but string variable can point to any string"
   ]
  },
  {
   "cell_type": "code",
   "execution_count": 7,
   "metadata": {},
   "outputs": [],
   "source": [
    "#3 \n",
    "#Three data types  int , float and complex classes in Python#"
   ]
  },
  {
   "cell_type": "code",
   "execution_count": 6,
   "metadata": {},
   "outputs": [],
   "source": [
    "# 4\n",
    "#expressions are combinations of variables , numbers, and at least one arithmetic or logical operation. \n",
    "# example : 23 × 4 ,a +b , A or b, A and B\n",
    "#function of all the experession is to evaluate the expression and perform the arthmatic or logical operation and generate a single value "
   ]
  },
  {
   "cell_type": "code",
   "execution_count": 8,
   "metadata": {},
   "outputs": [
    {
     "data": {
      "text/plain": [
       "69"
      ]
     },
     "execution_count": 8,
     "metadata": {},
     "output_type": "execute_result"
    }
   ],
   "source": [
    "#5 Whats thedifference between a declaration and an expression?\n",
    "# declaration mean just defining the varaible  and assinging the value ex: \n",
    "# expression  mean performing the arthmatic/logical operation on that variable.\n",
    "spam=23\n",
    "spam * 3 "
   ]
  },
  {
   "cell_type": "code",
   "execution_count": 9,
   "metadata": {},
   "outputs": [
    {
     "data": {
      "text/plain": [
       "23"
      ]
     },
     "execution_count": 9,
     "metadata": {},
     "output_type": "execute_result"
    }
   ],
   "source": [
    "#6\n",
    "bacon = 22\n",
    "bacon +1\n",
    "# this implies  1 is added to to bacon varaiable itself"
   ]
  },
  {
   "cell_type": "code",
   "execution_count": 13,
   "metadata": {},
   "outputs": [
    {
     "data": {
      "text/plain": [
       "'spamspamspam'"
      ]
     },
     "execution_count": 13,
     "metadata": {},
     "output_type": "execute_result"
    }
   ],
   "source": [
    "#7\n",
    "'spam'+'spamspam' # it will be generating 'spamspamspam' as it will concate both the string\n",
    "'spam'*3 # it also generate 'spamspamspam' as it add the same string 3 times "
   ]
  },
  {
   "cell_type": "code",
   "execution_count": 16,
   "metadata": {},
   "outputs": [
    {
     "ename": "SyntaxError",
     "evalue": "invalid syntax (<ipython-input-16-3fe81d2697d4>, line 4)",
     "output_type": "error",
     "traceback": [
      "\u001b[1;36m  File \u001b[1;32m\"<ipython-input-16-3fe81d2697d4>\"\u001b[1;36m, line \u001b[1;32m4\u001b[0m\n\u001b[1;33m    100g=23\u001b[0m\n\u001b[1;37m       ^\u001b[0m\n\u001b[1;31mSyntaxError\u001b[0m\u001b[1;31m:\u001b[0m invalid syntax\n"
     ]
    }
   ],
   "source": [
    "#8. Why is it that eggs is a true variable name but 100 is not?\n",
    "# variable needs to start with string character  or _ but it cannot start with integer value\n",
    "g=34\n",
    "100g=23"
   ]
  },
  {
   "cell_type": "code",
   "execution_count": 1,
   "metadata": {},
   "outputs": [],
   "source": [
    "#9. What three functions can be used to get the integer, floating-point number, or string version of a value?\n",
    "\n",
    "def fnInputInt():\n",
    "    try:\n",
    "        inputString = int(input(\"Enter a int:\"))\n",
    "        print('The input integer is:', inputString)\n",
    "    except:\n",
    "        print(\"please enter integer only\")\n",
    "\n",
    "def fnInpString():\n",
    "    inputString = input(\"Enter a String:\")\n",
    "    print('The input string is:', inputString)\n",
    "    \n",
    "def fnInputFloat():\n",
    "    try:\n",
    "        inputString = float(input(\"Enter a floating numbers:\"))\n",
    "        print('The input floating data is:', inputString)\n",
    "    except:\n",
    "        print(\"please enter floating data or integers only\")\n",
    "    \n",
    "\n",
    "    "
   ]
  },
  {
   "cell_type": "code",
   "execution_count": 2,
   "metadata": {},
   "outputs": [
    {
     "name": "stdout",
     "output_type": "stream",
     "text": [
      "Enter a floating numbers:2.088\n",
      "The input floating data is: 2.088\n"
     ]
    }
   ],
   "source": [
    "fnInputFloat()"
   ]
  },
  {
   "cell_type": "code",
   "execution_count": 3,
   "metadata": {},
   "outputs": [
    {
     "ename": "TypeError",
     "evalue": "can only concatenate str (not \"int\") to str",
     "output_type": "error",
     "traceback": [
      "\u001b[1;31m---------------------------------------------------------------------------\u001b[0m",
      "\u001b[1;31mTypeError\u001b[0m                                 Traceback (most recent call last)",
      "\u001b[1;32m<ipython-input-3-7ecee8b5da52>\u001b[0m in \u001b[0;36m<module>\u001b[1;34m\u001b[0m\n\u001b[0;32m      3\u001b[0m \u001b[1;31m# expression fails as it expects all the varible or values of same type in case of appending or  addition\u001b[0m\u001b[1;33m\u001b[0m\u001b[1;33m\u001b[0m\u001b[1;33m\u001b[0m\u001b[0m\n\u001b[0;32m      4\u001b[0m \u001b[1;33m\u001b[0m\u001b[0m\n\u001b[1;32m----> 5\u001b[1;33m \u001b[1;34m'I have eaten'\u001b[0m \u001b[1;33m+\u001b[0m \u001b[1;36m99\u001b[0m \u001b[1;33m+\u001b[0m\u001b[1;34m'burritos'\u001b[0m\u001b[1;33m\u001b[0m\u001b[1;33m\u001b[0m\u001b[0m\n\u001b[0m",
      "\u001b[1;31mTypeError\u001b[0m: can only concatenate str (not \"int\") to str"
     ]
    }
   ],
   "source": [
    "#10. Why does this expression cause an error? How can you fix it? 'I have eaten' + 99 +'burritos'\n",
    "\n",
    "# expression fails as it expects all the varible or values of same type in case of concatenation or  addition\n",
    "\n",
    "'I have eaten' + 99 +'burritos'"
   ]
  },
  {
   "cell_type": "code",
   "execution_count": 4,
   "metadata": {},
   "outputs": [
    {
     "data": {
      "text/plain": [
       "'I have eaten99burritos'"
      ]
     },
     "execution_count": 4,
     "metadata": {},
     "output_type": "execute_result"
    }
   ],
   "source": [
    "#correct expression should be - convert the int to string:\n",
    "'I have eaten' + str(99) +'burritos'"
   ]
  }
 ],
 "metadata": {
  "kernelspec": {
   "display_name": "Python 3",
   "language": "python",
   "name": "python3"
  },
  "language_info": {
   "codemirror_mode": {
    "name": "ipython",
    "version": 3
   },
   "file_extension": ".py",
   "mimetype": "text/x-python",
   "name": "python",
   "nbconvert_exporter": "python",
   "pygments_lexer": "ipython3",
   "version": "3.7.4"
  }
 },
 "nbformat": 4,
 "nbformat_minor": 2
}
