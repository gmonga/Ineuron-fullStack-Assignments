{
 "cells": [
  {
   "cell_type": "code",
   "execution_count": 15,
   "metadata": {},
   "outputs": [],
   "source": [
    "#1.Why are functions advantageous to have in your programs?\n",
    "# Functions minimize duplication of code.\n",
    "# function makes programs shorter, easier to read, and easier to update.\n",
    "# function are the subprograms which execute the set of instruction and return the value after compuation or evaluation."
   ]
  },
  {
   "cell_type": "code",
   "execution_count": 16,
   "metadata": {},
   "outputs": [],
   "source": [
    "#When does the code in a function run: when its specified or when it's called?\n",
    "# functions are executed once they are called with the required parameters"
   ]
  },
  {
   "cell_type": "code",
   "execution_count": 20,
   "metadata": {},
   "outputs": [],
   "source": [
    "#3. What statement creates a function?\n",
    "# def abc(): \n",
    "    # def keyword is use crates the fuction, above it creates fucation abc."
   ]
  },
  {
   "cell_type": "code",
   "execution_count": 17,
   "metadata": {},
   "outputs": [
    {
     "name": "stdout",
     "output_type": "stream",
     "text": [
      "Hello Gaurav\n"
     ]
    }
   ],
   "source": [
    "# 4. What is the difference between a function and a function call?\n",
    "# A function is sub-program to achieve a particular result while function call is using this function to achive that task\n",
    "\n",
    "def abc(name):  #fuction defination\n",
    "    print (\"Hello \"+str(name))\n",
    "\n",
    "abc(\"Gaurav\") #function call"
   ]
  },
  {
   "cell_type": "code",
   "execution_count": 19,
   "metadata": {},
   "outputs": [],
   "source": [
    "#5. How many global scopes are there in a Python program? How many local scopes?\n",
    "#There's only one global scope in Python per program execution. This scope remains in existence until the program terminate.\n",
    "# local scope is limited to the function where local varaiables are defined. "
   ]
  },
  {
   "cell_type": "code",
   "execution_count": 18,
   "metadata": {},
   "outputs": [],
   "source": [
    "#6. What happens to variables in a local scope when the function call returns?\n",
    "\n",
    "#when the reurn call is executed in the function scope of the local variable is terminated and they are destroyed."
   ]
  },
  {
   "cell_type": "code",
   "execution_count": 21,
   "metadata": {},
   "outputs": [],
   "source": [
    "#7. What is the concept of a return value? Is it possible to have a return value in an expression?\n",
    "\n",
    "# every function in python can have a return value, if function have the return statement defined than on function call function will return a definate value after its execution.\n",
    "# yes return value in an expression as expressio will always return boolean value(true/false)"
   ]
  },
  {
   "cell_type": "code",
   "execution_count": 22,
   "metadata": {},
   "outputs": [],
   "source": [
    "#If a function does not have a return statement, what is the return value of a call to that function?\n",
    "#A function without a return statement returns None by default"
   ]
  },
  {
   "cell_type": "code",
   "execution_count": 30,
   "metadata": {},
   "outputs": [
    {
     "name": "stdout",
     "output_type": "stream",
     "text": [
      "34\n",
      "23\n",
      "23\n",
      "23\n"
     ]
    }
   ],
   "source": [
    "#9. How do you make a function variable refer to the global variable?\n",
    "# define a varaiable using globle key word to make ita global variable,example below explains the same\n",
    "\n",
    "x=34\n",
    "def func1():\n",
    "    print(x)  # global value of x will be available to the function\n",
    "\n",
    "def func2():\n",
    "    global x  # define global variable in function\n",
    "    x = 23    #assigning value\n",
    "    print(x)\n",
    "func1()\n",
    "func2()   # calling  sequence will change the o/p base don the global value\n",
    "\n",
    "func2()\n",
    "func1()"
   ]
  },
  {
   "cell_type": "code",
   "execution_count": 32,
   "metadata": {},
   "outputs": [],
   "source": [
    "#10. What is the data type of None?\n",
    "#None itself a datatype(NoneType)"
   ]
  },
  {
   "cell_type": "code",
   "execution_count": 33,
   "metadata": {},
   "outputs": [],
   "source": [
    "#11. What does the sentence import allyourpetsnamederic do?\n",
    "# above import statement imports a module named areallyourpetsnamederic "
   ]
  },
  {
   "cell_type": "code",
   "execution_count": 34,
   "metadata": {},
   "outputs": [],
   "source": [
    "#12. If you had a bacon() feature in a spam module, what would you call it after importing spam?\n",
    "#spam.bacon()"
   ]
  },
  {
   "cell_type": "code",
   "execution_count": null,
   "metadata": {},
   "outputs": [],
   "source": [
    "#13. What can you do to save a programme from crashing if it encounters an error?\n",
    "# execute the code which is suspected to crash in try block and catch the exception in except block \n",
    "try:\n",
    "    \n",
    "except:"
   ]
  },
  {
   "cell_type": "code",
   "execution_count": null,
   "metadata": {},
   "outputs": [],
   "source": [
    "#14. What is the purpose of the try clause? What is the purpose of the except clause?\n",
    "# code which is suspected to error out  shoul be placed in in try clause\n",
    "# The code that executes if an error happens goes in the except clause."
   ]
  }
 ],
 "metadata": {
  "kernelspec": {
   "display_name": "Python 3",
   "language": "python",
   "name": "python3"
  },
  "language_info": {
   "codemirror_mode": {
    "name": "ipython",
    "version": 3
   },
   "file_extension": ".py",
   "mimetype": "text/x-python",
   "name": "python",
   "nbconvert_exporter": "python",
   "pygments_lexer": "ipython3",
   "version": "3.7.4"
  }
 },
 "nbformat": 4,
 "nbformat_minor": 2
}
