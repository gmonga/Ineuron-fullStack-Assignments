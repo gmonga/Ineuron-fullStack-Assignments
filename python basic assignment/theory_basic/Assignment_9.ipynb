{
 "cells": [
  {
   "cell_type": "code",
   "execution_count": 1,
   "metadata": {},
   "outputs": [],
   "source": [
    "#1. To what does a relative path refer?\n",
    "#Relative paths are relative to the current working directory.\n"
   ]
  },
  {
   "cell_type": "code",
   "execution_count": 3,
   "metadata": {},
   "outputs": [],
   "source": [
    "#2. What does an absolute path start with your operating system?\n",
    "#Absolute paths start with the root folder, such as / or C:\\.\n",
    "\n"
   ]
  },
  {
   "cell_type": "code",
   "execution_count": null,
   "metadata": {},
   "outputs": [],
   "source": [
    "#3. What do the functions os.getcwd() and os.chdir() do?\n",
    "# os.getcwd() -- gives you current working directory\n",
    "# os.chdir()--- it is used change the current directory to mention path in parameter"
   ]
  },
  {
   "cell_type": "code",
   "execution_count": null,
   "metadata": {},
   "outputs": [],
   "source": [
    "#4. What are the . and .. folders?\n",
    "# . repersent the current folder\n",
    "# .. represent the Parent folder of the current folder"
   ]
  },
  {
   "cell_type": "code",
   "execution_count": null,
   "metadata": {},
   "outputs": [],
   "source": [
    "#5. In C:\\bacon\\eggs\\spam.txt, which part is the dir name, and which part is the base name?\n",
    "# dir apth=C:\\bacon\\eggs\n",
    "# base name=spam.txt"
   ]
  },
  {
   "cell_type": "code",
   "execution_count": null,
   "metadata": {},
   "outputs": [],
   "source": [
    "#6. What are the three “mode” arguments that can be passed to the open() function?\n",
    "# Three modes that can be passed to file  with open fn are : read (r),write (w) and append (a)"
   ]
  },
  {
   "cell_type": "code",
   "execution_count": null,
   "metadata": {},
   "outputs": [],
   "source": [
    "#7. What happens if an existing file is opened in write mode?\n",
    "# if an existing file opened in write mode data is erased and completely overwritten."
   ]
  },
  {
   "cell_type": "code",
   "execution_count": null,
   "metadata": {},
   "outputs": [],
   "source": [
    "#8. How do you tell the difference between read() and readlines()?\n",
    "# read()-- will read the complete data of the file in one string  while The readlines() method returns a list of strings, where each string is a line from the file’s contents."
   ]
  },
  {
   "cell_type": "code",
   "execution_count": null,
   "metadata": {},
   "outputs": [],
   "source": [
    "#9. What data structure does a shelf value resemble?\n"
   ]
  }
 ],
 "metadata": {
  "kernelspec": {
   "display_name": "Python 3",
   "language": "python",
   "name": "python3"
  },
  "language_info": {
   "codemirror_mode": {
    "name": "ipython",
    "version": 3
   },
   "file_extension": ".py",
   "mimetype": "text/x-python",
   "name": "python",
   "nbconvert_exporter": "python",
   "pygments_lexer": "ipython3",
   "version": "3.7.4"
  }
 },
 "nbformat": 4,
 "nbformat_minor": 2
}
